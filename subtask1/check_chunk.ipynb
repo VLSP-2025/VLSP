{
 "cells": [
  {
   "cell_type": "code",
   "execution_count": null,
   "id": "50f3c4b3",
   "metadata": {},
   "outputs": [
    {
     "name": "stdout",
     "output_type": "stream",
     "text": [
      "311\n",
      "1309\n"
     ]
    }
   ],
   "source": [
    "import json\n",
    "\n",
    "with open('chunk.json', 'r') as f:\n",
    "    data = json.load(f)\n",
    "\n",
    "\n",
    "article_id_list = []\n",
    "\n",
    "count_images_in_article = 0 \n",
    "\n",
    "for item in data:\n",
    "    if item['article_id'] not in article_id_list:\n",
    "        article_id_list.append(item['article_id'])\n",
    "        count_images_in_article += len(item['article_images'])"
   ]
  },
  {
   "cell_type": "code",
   "execution_count": null,
   "id": "e479c845",
   "metadata": {},
   "outputs": [],
   "source": [
    " "
   ]
  },
  {
   "cell_type": "code",
   "execution_count": 10,
   "id": "188983f9",
   "metadata": {},
   "outputs": [
    {
     "name": "stdout",
     "output_type": "stream",
     "text": [
      "1309\n"
     ]
    }
   ],
   "source": [
    "with open('text_embedding.json', 'r') as f:\n",
    "    text_collection = json.load(f)\n",
    "\n",
    "print(len(text_collection))"
   ]
  },
  {
   "cell_type": "code",
   "execution_count": 11,
   "id": "bec74a2a",
   "metadata": {},
   "outputs": [
    {
     "name": "stdout",
     "output_type": "stream",
     "text": [
      "762\n"
     ]
    }
   ],
   "source": [
    "\n",
    "with open('image_collection.json', 'r') as f:\n",
    "    image_collection = json.load(f)\n",
    "\n",
    "print(len(image_collection))"
   ]
  },
  {
   "cell_type": "code",
   "execution_count": null,
   "id": "15b3ad3f",
   "metadata": {},
   "outputs": [],
   "source": []
  }
 ],
 "metadata": {
  "kernelspec": {
   "display_name": "dl_env_only_pip",
   "language": "python",
   "name": "python3"
  },
  "language_info": {
   "codemirror_mode": {
    "name": "ipython",
    "version": 3
   },
   "file_extension": ".py",
   "mimetype": "text/x-python",
   "name": "python",
   "nbconvert_exporter": "python",
   "pygments_lexer": "ipython3",
   "version": "3.10.18"
  }
 },
 "nbformat": 4,
 "nbformat_minor": 5
}
